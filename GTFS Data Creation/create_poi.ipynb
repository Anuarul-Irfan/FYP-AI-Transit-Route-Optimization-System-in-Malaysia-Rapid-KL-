{
 "cells": [
  {
   "cell_type": "code",
   "execution_count": 1,
   "metadata": {},
   "outputs": [],
   "source": [
    "import pandas as pd\n",
    "from geopy.distance import geodesic"
   ]
  },
  {
   "cell_type": "code",
   "execution_count": 2,
   "metadata": {},
   "outputs": [
    {
     "name": "stdout",
     "output_type": "stream",
     "text": [
      "Files generated: routes_with_pois.csv and trips_with_pois.csv\n"
     ]
    }
   ],
   "source": [
    "\n",
    "\n",
    "# Define POIs and their coordinates\n",
    "pois = {\n",
    "    'KLCC Twin Towers': (3.15785, 101.7123),\n",
    "    'Menara Kuala Lumpur': (3.1528, 101.7039),\n",
    "    'TRX Exchange Tower': (3.1579, 101.7165),\n",
    "    'Menara 106': (3.1394, 101.7049),\n",
    "    'Lake Gardens': (3.139, 101.681),\n",
    "    'KL Forest Eco Park': (3.151, 101.702),\n",
    "    'Titiwangsa Lake Gardens': (3.174, 101.704),\n",
    "    'National Mosque': (3.1411, 101.6935),\n",
    "    'Thean Hou Temple': (3.1175, 101.6878),\n",
    "    'Batu Caves': (3.237, 101.683),\n",
    "    'Muzium Negara': (3.1369, 101.6867),\n",
    "    'Pavilion Kuala Lumpur': (3.1496, 101.7124),\n",
    "    'Changkat Bukit Bintang': (3.147, 101.708),\n",
    "    'Petaling Street': (3.1445, 101.6955),\n",
    "    'Central Market': (3.1449, 101.6947),\n",
    "    'Aquaria KLCC': (3.1575, 101.7125),\n",
    "    'Zoo Negara': (3.212, 101.756),\n",
    "    'KidZania Kuala Lumpur': (3.157, 101.598),\n",
    "    'Sunway Lagoon': (3.073, 101.607),\n",
    "    'Berjaya Times Square': (3.1425, 101.709),\n",
    "    'Sultan Abdul Samad Building': (3.1475, 101.6935),\n",
    "    'Dataran Merdeka': (3.147, 101.693),\n",
    "    'Istana Negara': (3.137, 101.684)\n",
    "}\n",
    "\n",
    "\n",
    "# Function to find nearby POIs for a given location\n",
    "def find_nearby_pois(lat, lon, pois, threshold=2000):\n",
    "    stop_location = (lat, lon)\n",
    "    nearby = []\n",
    "    for poi_name, poi_location in pois.items():\n",
    "        distance = geodesic(stop_location, poi_location).meters\n",
    "        if distance <= threshold:\n",
    "            nearby.append((poi_name, distance))\n",
    "    return sorted(nearby, key=lambda x: x[1])\n",
    "\n",
    "# Load GTFS data files\n",
    "stops = pd.read_csv(\"stops.csv\")\n",
    "stop_times = pd.read_csv(\"stop_times.csv\")\n",
    "\n",
    "# Attach nearby POIs to stops\n",
    "stops['nearby_pois'] = stops.apply(\n",
    "    lambda row: find_nearby_pois(row['stop_lat'], row['stop_lon'], pois), axis=1\n",
    ")\n",
    "\n",
    "# Merge stop_times with updated stops to get POIs for stops in trips\n",
    "stop_times_with_pois = stop_times.merge(\n",
    "    stops[['stop_id', 'nearby_pois']], on='stop_id', how='left'\n",
    ")\n",
    "\n",
    "# Aggregate POIs for each route\n",
    "routes_with_pois = (\n",
    "    stop_times_with_pois.groupby('route_id')['nearby_pois']\n",
    "    .apply(lambda x: {poi for pois in x if isinstance(pois, list) for poi in pois})\n",
    "    .reset_index()\n",
    "    .rename(columns={'nearby_pois': 'route_pois'})\n",
    ")\n",
    "\n",
    "# Convert POIs set to a list for readability\n",
    "routes_with_pois['route_pois'] = routes_with_pois['route_pois'].apply(list)\n",
    "\n",
    "# Aggregate POIs for each trip\n",
    "trips_with_pois = (\n",
    "    stop_times_with_pois.groupby('trip_id')['nearby_pois']\n",
    "    .apply(lambda x: {poi for pois in x if isinstance(pois, list) for poi in pois})\n",
    "    .reset_index()\n",
    "    .rename(columns={'nearby_pois': 'trip_pois'})\n",
    ")\n",
    "\n",
    "# Convert POIs set to a list for readability\n",
    "trips_with_pois['trip_pois'] = trips_with_pois['trip_pois'].apply(list)\n",
    "\n",
    "# Save results to CSV files\n",
    "routes_with_pois.to_csv(\"routes_with_pois.csv\", index=False)\n",
    "trips_with_pois.to_csv(\"trips_with_pois.csv\", index=False)\n",
    "\n",
    "print(\"Files generated: routes_with_pois.csv and trips_with_pois.csv\")\n"
   ]
  }
 ],
 "metadata": {
  "kernelspec": {
   "display_name": "Python 3",
   "language": "python",
   "name": "python3"
  },
  "language_info": {
   "codemirror_mode": {
    "name": "ipython",
    "version": 3
   },
   "file_extension": ".py",
   "mimetype": "text/x-python",
   "name": "python",
   "nbconvert_exporter": "python",
   "pygments_lexer": "ipython3",
   "version": "3.12.1"
  }
 },
 "nbformat": 4,
 "nbformat_minor": 2
}
